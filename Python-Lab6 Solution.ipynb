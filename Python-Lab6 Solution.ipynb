{
 "cells": [
  {
   "cell_type": "markdown",
   "id": "85f2bd4c",
   "metadata": {},
   "source": [
    "## Build a phone book program that receives the phone number, and returns the name of the owner."
   ]
  },
  {
   "attachments": {},
   "cell_type": "markdown",
   "id": "f6481858",
   "metadata": {},
   "source": [
    "### You can follow the table below:\n",
    "![Table.png](Table)\n",
    "- If the number exists, print the owner. Otherwise, print \"Sorry, the number is not found\".\n",
    "- If the number is less or more than 10 numbers, print \"This is invalid number\".\n",
    "- If the number contains letters or symbols, print \"This is invalid number\"."
   ]
  },
  {
   "cell_type": "code",
   "execution_count": 58,
   "id": "d5b416af",
   "metadata": {},
   "outputs": [],
   "source": [
    "contacts = {\n",
    "    0:{ 'Name':'Amal','Phone_num':'1111111111'},\n",
    "    1:{'Name':'Mohammed','Phone_num':'2222222222'},\n",
    "    2:{'Name':'Khadijah','Phone_num':'3333333333'},\n",
    "    3:{'Name':'Abdullah','Phone_num':'4444444444'},\n",
    "    4:{'Name':'Rawan','Phone_num':'5555555555'},\n",
    "    5:{'Name':'Faisal','Phone_num':'6666666666'},\n",
    "    6:{'Name':'Layla','Phone_num':'7777777777'}  \n",
    "}"
   ]
  },
  {
   "cell_type": "code",
   "execution_count": 89,
   "id": "035cc5e8",
   "metadata": {},
   "outputs": [
    {
     "name": "stdout",
     "output_type": "stream",
     "text": [
      "Enter the number:6666666666\n",
      "This phone number owned by Faisal\n"
     ]
    }
   ],
   "source": [
    "#Ask user for phone number\n",
    "query=(input('Enter the number:'))\n",
    "#flag to check if the program finds the phone number or not.\n",
    "found_flag=False\n",
    "#Check if the phone number that was entered meets the rules or not.\n",
    "if len(query)==10 and query.isnumeric():\n",
    "    #search in Dict for the phone number that was entered\n",
    "    for i in range(len(contacts)):\n",
    "        if query == contacts[i]['Phone_num']:\n",
    "            #print the name if the phone number exists.\n",
    "            print('This phone number owned by {}'.format(contacts[i]['Name']))\n",
    "            #change the found flag to True\n",
    "            found_flag=True\n",
    "            break\n",
    "    #if the program doesnt found the phone number print Sorry,...\n",
    "    if found_flag == False:\n",
    "        print('Sorry, the number is not found')\n",
    "else:\n",
    "    print('This is invalid number')"
   ]
  },
  {
   "cell_type": "code",
   "execution_count": null,
   "id": "dd573beb",
   "metadata": {},
   "outputs": [],
   "source": []
  }
 ],
 "metadata": {
  "kernelspec": {
   "display_name": "Python 3 (ipykernel)",
   "language": "python",
   "name": "python3"
  },
  "language_info": {
   "codemirror_mode": {
    "name": "ipython",
    "version": 3
   },
   "file_extension": ".py",
   "mimetype": "text/x-python",
   "name": "python",
   "nbconvert_exporter": "python",
   "pygments_lexer": "ipython3",
   "version": "3.10.9"
  }
 },
 "nbformat": 4,
 "nbformat_minor": 5
}
